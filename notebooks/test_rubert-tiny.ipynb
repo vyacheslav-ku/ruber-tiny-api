{
 "cells": [
  {
   "cell_type": "code",
   "execution_count": 1,
   "id": "initial_id",
   "metadata": {
    "collapsed": true,
    "ExecuteTime": {
     "end_time": "2024-02-02T21:58:49.299217Z",
     "start_time": "2024-02-02T21:58:44.983426Z"
    }
   },
   "outputs": [
    {
     "name": "stderr",
     "output_type": "stream",
     "text": [
      "/Users/vyacheslav/Documents/projects/rubert-tiny/.venv39/lib/python3.9/site-packages/tqdm/auto.py:21: TqdmWarning: IProgress not found. Please update jupyter and ipywidgets. See https://ipywidgets.readthedocs.io/en/stable/user_install.html\n",
      "  from .autonotebook import tqdm as notebook_tqdm\n",
      "/var/folders/s3/hmpf_gw12rg9ltnxptr0q3pw0000gn/T/ipykernel_73886/4055336453.py:4: DeprecationWarning: \n",
      "Pyarrow will become a required dependency of pandas in the next major release of pandas (pandas 3.0),\n",
      "(to allow more performant data types, such as the Arrow string type, and better interoperability with other libraries)\n",
      "but was not found to be installed on your system.\n",
      "If this would cause problems for you,\n",
      "please provide us feedback at https://github.com/pandas-dev/pandas/issues/54466\n",
      "        \n",
      "  import pandas as pd\n"
     ]
    }
   ],
   "source": [
    "import torch\n",
    "from transformers import AutoTokenizer, AutoModel\n",
    "import numpy as np\n",
    "import pandas as pd\n",
    "from torch import nn"
   ]
  },
  {
   "cell_type": "code",
   "outputs": [],
   "source": [
    "tokenizer = AutoTokenizer.from_pretrained(\"cointegrated/rubert-tiny\")"
   ],
   "metadata": {
    "collapsed": false,
    "ExecuteTime": {
     "end_time": "2024-02-02T21:58:50.679710Z",
     "start_time": "2024-02-02T21:58:50.081468Z"
    }
   },
   "id": "b711be81ed5c3e82",
   "execution_count": 2
  },
  {
   "cell_type": "code",
   "outputs": [],
   "source": [
    "model = AutoModel.from_pretrained(\"cointegrated/rubert-tiny\")"
   ],
   "metadata": {
    "collapsed": false,
    "ExecuteTime": {
     "end_time": "2024-02-02T21:58:52.277022Z",
     "start_time": "2024-02-02T21:58:50.669450Z"
    }
   },
   "id": "c8101aba83e0a6b2",
   "execution_count": 3
  },
  {
   "cell_type": "code",
   "outputs": [
    {
     "name": "stdout",
     "output_type": "stream",
     "text": [
      "Python 3.9.12\r\n"
     ]
    }
   ],
   "source": [
    "!python -V"
   ],
   "metadata": {
    "collapsed": false,
    "ExecuteTime": {
     "end_time": "2024-02-02T21:58:52.421210Z",
     "start_time": "2024-02-02T21:58:52.276054Z"
    }
   },
   "id": "5a36e0f765244b7",
   "execution_count": 4
  },
  {
   "cell_type": "code",
   "outputs": [],
   "source": [
    "def embed_bert_cls(text, model, tokenizer):\n",
    "    t = tokenizer(text, padding=True, truncation=True, return_tensors='pt')\n",
    "    with torch.no_grad():\n",
    "        model_output = model(**{k: v.to(model.device) for k, v in t.items()})\n",
    "    embeddings = model_output.last_hidden_state[:, 0, :]\n",
    "    embeddings = torch.nn.functional.normalize(embeddings)\n",
    "    return embeddings[0].cpu().numpy()"
   ],
   "metadata": {
    "collapsed": false,
    "ExecuteTime": {
     "end_time": "2024-02-02T21:59:20.732006Z",
     "start_time": "2024-02-02T21:59:20.710939Z"
    }
   },
   "id": "d200014ec0a25634",
   "execution_count": 5
  },
  {
   "cell_type": "code",
   "outputs": [
    {
     "name": "stdout",
     "output_type": "stream",
     "text": [
      "(312,)\n"
     ]
    }
   ],
   "source": [
    "print(embed_bert_cls('привет мир', model, tokenizer).shape)"
   ],
   "metadata": {
    "collapsed": false,
    "ExecuteTime": {
     "end_time": "2024-02-02T21:59:23.400107Z",
     "start_time": "2024-02-02T21:59:21.302717Z"
    }
   },
   "id": "16a4da25ef8bb681",
   "execution_count": 6
  },
  {
   "cell_type": "code",
   "outputs": [],
   "source": [
    "tz = embed_bert_cls('привет мир', model, tokenizer)"
   ],
   "metadata": {
    "collapsed": false,
    "ExecuteTime": {
     "end_time": "2024-02-02T21:59:23.402620Z",
     "start_time": "2024-02-02T21:59:23.382654Z"
    }
   },
   "id": "a9d5d8a630fd0bed",
   "execution_count": 7
  },
  {
   "cell_type": "code",
   "outputs": [],
   "source": [],
   "metadata": {
    "collapsed": false,
    "ExecuteTime": {
     "end_time": "2024-02-02T21:59:23.437596Z",
     "start_time": "2024-02-02T21:59:23.397554Z"
    }
   },
   "id": "3fb2fe7c9be1d182",
   "execution_count": 7
  },
  {
   "cell_type": "code",
   "outputs": [],
   "source": [
    "df = pd.read_csv(\"/Users/vyacheslav/Documents/projects/rubert-tiny/notebooks/yes_no_corpus.v2.txt\", sep=\"\\t\", names=['YESNO', 'DATA'])"
   ],
   "metadata": {
    "collapsed": false,
    "ExecuteTime": {
     "end_time": "2024-02-02T21:59:23.675979Z",
     "start_time": "2024-02-02T21:59:23.657438Z"
    }
   },
   "id": "1d5a12b49039c04c",
   "execution_count": 8
  },
  {
   "cell_type": "code",
   "outputs": [],
   "source": [
    "df['TARGET'] = df['YESNO'].map({\"NO\": 0, \"YES\":1})"
   ],
   "metadata": {
    "collapsed": false,
    "ExecuteTime": {
     "end_time": "2024-02-02T21:59:24.976116Z",
     "start_time": "2024-02-02T21:59:24.952597Z"
    }
   },
   "id": "7c2a7ce0240cde61",
   "execution_count": 9
  },
  {
   "cell_type": "code",
   "outputs": [],
   "source": [
    "df['VEC'] = df['DATA'].apply(lambda  x : embed_bert_cls(x, model, tokenizer)) "
   ],
   "metadata": {
    "collapsed": false,
    "ExecuteTime": {
     "end_time": "2024-02-02T21:59:31.613491Z",
     "start_time": "2024-02-02T21:59:25.316877Z"
    }
   },
   "id": "c28c085debe20002",
   "execution_count": 10
  },
  {
   "cell_type": "code",
   "outputs": [
    {
     "data": {
      "text/plain": "  YESNO   DATA  TARGET                                                VEC\n0    NO  а нет       0  [0.0030167643, 0.031472478, -0.01533914, -0.07...",
      "text/html": "<div>\n<style scoped>\n    .dataframe tbody tr th:only-of-type {\n        vertical-align: middle;\n    }\n\n    .dataframe tbody tr th {\n        vertical-align: top;\n    }\n\n    .dataframe thead th {\n        text-align: right;\n    }\n</style>\n<table border=\"1\" class=\"dataframe\">\n  <thead>\n    <tr style=\"text-align: right;\">\n      <th></th>\n      <th>YESNO</th>\n      <th>DATA</th>\n      <th>TARGET</th>\n      <th>VEC</th>\n    </tr>\n  </thead>\n  <tbody>\n    <tr>\n      <th>0</th>\n      <td>NO</td>\n      <td>а нет</td>\n      <td>0</td>\n      <td>[0.0030167643, 0.031472478, -0.01533914, -0.07...</td>\n    </tr>\n  </tbody>\n</table>\n</div>"
     },
     "execution_count": 11,
     "metadata": {},
     "output_type": "execute_result"
    }
   ],
   "source": [
    "df.head(1)"
   ],
   "metadata": {
    "collapsed": false,
    "ExecuteTime": {
     "end_time": "2024-02-02T21:59:31.663728Z",
     "start_time": "2024-02-02T21:59:31.625752Z"
    }
   },
   "id": "5a1c492673d63fc4",
   "execution_count": 11
  },
  {
   "cell_type": "code",
   "outputs": [
    {
     "name": "stdout",
     "output_type": "stream",
     "text": [
      "<class 'pandas.core.frame.DataFrame'>\n",
      "RangeIndex: 763 entries, 0 to 762\n",
      "Data columns (total 4 columns):\n",
      " #   Column  Non-Null Count  Dtype \n",
      "---  ------  --------------  ----- \n",
      " 0   YESNO   763 non-null    object\n",
      " 1   DATA    763 non-null    object\n",
      " 2   TARGET  763 non-null    int64 \n",
      " 3   VEC     763 non-null    object\n",
      "dtypes: int64(1), object(3)\n",
      "memory usage: 24.0+ KB\n"
     ]
    }
   ],
   "source": [
    "df.info()"
   ],
   "metadata": {
    "collapsed": false,
    "ExecuteTime": {
     "end_time": "2024-02-02T21:59:31.667204Z",
     "start_time": "2024-02-02T21:59:31.641489Z"
    }
   },
   "id": "d57b51dfc85bfa76",
   "execution_count": 12
  },
  {
   "cell_type": "code",
   "outputs": [
    {
     "data": {
      "text/plain": "'cpu'"
     },
     "execution_count": 13,
     "metadata": {},
     "output_type": "execute_result"
    }
   ],
   "source": [
    "\n",
    "device = \"cuda\" if torch.cuda.is_available() else \"cpu\"\n",
    "device"
   ],
   "metadata": {
    "collapsed": false,
    "ExecuteTime": {
     "end_time": "2024-02-02T21:59:31.713742Z",
     "start_time": "2024-02-02T21:59:31.667075Z"
    }
   },
   "id": "65b8b460193f733e",
   "execution_count": 13
  },
  {
   "cell_type": "code",
   "outputs": [
    {
     "data": {
      "text/plain": "YesNoModel(\n  (layer_1): Linear(in_features=312, out_features=5, bias=True)\n  (layer_2): Linear(in_features=5, out_features=1, bias=True)\n)"
     },
     "execution_count": 14,
     "metadata": {},
     "output_type": "execute_result"
    }
   ],
   "source": [
    "class YesNoModel(nn.Module):\n",
    "    def set_config(self, config):\n",
    "        self.config = config\n",
    "\n",
    "    def predict_group(self, group, txt):\n",
    "        for t in self.config.get(group, []):\n",
    "            if t in txt:\n",
    "                return 1\n",
    "            if txt in t:\n",
    "                return 1\n",
    "        return 0\n",
    "\n",
    "    def __init__(self):\n",
    "        super().__init__()\n",
    "        # 2. Create 2 nn.Linear layers capable of handling X and y input and output shapes\n",
    "        self.layer_1 = nn.Linear(in_features=312, out_features=5)  # takes in 2 features (X), produces 5 features\n",
    "        self.layer_2 = nn.Linear(in_features=5, out_features=1)  # takes in 5 features, produces 1 feature (y)\n",
    "\n",
    "    # 3. Define a forward method containing the forward pass computation\n",
    "    def forward(self, x):\n",
    "        # Return the output of layer_2, a single feature, the same shape as y\n",
    "        return self.layer_2(\n",
    "            self.layer_1(\n",
    "                x))  # computation goes through layer_1 first then the output of layer_1 goes through layer_2\n",
    "\n",
    "# 4. Create an instance of the model and send it to target device\n",
    "model_0 = YesNoModel().to(device)\n",
    "model_0"
   ],
   "metadata": {
    "collapsed": false,
    "ExecuteTime": {
     "end_time": "2024-02-02T21:59:31.741540Z",
     "start_time": "2024-02-02T21:59:31.681324Z"
    }
   },
   "id": "375c46c4bd3b8391",
   "execution_count": 14
  },
  {
   "cell_type": "code",
   "outputs": [],
   "source": [
    "loss_fn = nn.BCEWithLogitsLoss() # BCEWithLogitsLoss = sigmoid built-in\n",
    "\n",
    "# Create an optimizer\n",
    "optimizer = torch.optim.SGD(params=model_0.parameters(), \n",
    "                            lr=0.1)"
   ],
   "metadata": {
    "collapsed": false,
    "ExecuteTime": {
     "end_time": "2024-02-02T21:59:31.743648Z",
     "start_time": "2024-02-02T21:59:31.698578Z"
    }
   },
   "id": "4f4e9eb4bacebd58",
   "execution_count": 15
  },
  {
   "cell_type": "code",
   "outputs": [],
   "source": [
    "def accuracy_fn(y_true, y_pred):\n",
    "    correct = torch.eq(y_true, y_pred).sum().item() # torch.eq() calculates where two tensors are equal\n",
    "    acc = (correct / len(y_pred)) * 100 \n",
    "    return acc"
   ],
   "metadata": {
    "collapsed": false,
    "ExecuteTime": {
     "end_time": "2024-02-02T21:59:31.744686Z",
     "start_time": "2024-02-02T21:59:31.706603Z"
    }
   },
   "id": "926a674f3b86599c",
   "execution_count": 16
  },
  {
   "cell_type": "code",
   "outputs": [
    {
     "data": {
      "text/plain": "numpy.ndarray"
     },
     "execution_count": 17,
     "metadata": {},
     "output_type": "execute_result"
    }
   ],
   "source": [
    "type(df['VEC'].values[0])"
   ],
   "metadata": {
    "collapsed": false,
    "ExecuteTime": {
     "end_time": "2024-02-02T21:59:31.825104Z",
     "start_time": "2024-02-02T21:59:31.717121Z"
    }
   },
   "id": "b18e66a851949dd5",
   "execution_count": 17
  },
  {
   "cell_type": "code",
   "outputs": [],
   "source": [
    "\n",
    "\n",
    "X_train = torch.from_numpy(np.stack(df['VEC'].values)).type(torch.float)\n",
    "y_train= torch.from_numpy(np.stack(df['TARGET'].values)).type(torch.float)\n",
    "X_test = X_train\n",
    "y_test = y_train\n",
    "X_train, y_train = X_train.to(device), y_train.to(device)\n",
    "X_test, y_test = X_test.to(device), y_test.to(device)"
   ],
   "metadata": {
    "collapsed": false,
    "ExecuteTime": {
     "end_time": "2024-02-02T21:59:33.372290Z",
     "start_time": "2024-02-02T21:59:33.352139Z"
    }
   },
   "id": "5b579af6b7e0ec20",
   "execution_count": 18
  },
  {
   "cell_type": "code",
   "outputs": [
    {
     "name": "stdout",
     "output_type": "stream",
     "text": [
      "Epoch: 0 | Loss: 0.69635, Accuracy: 36.30% | Test loss: 0.69341, Test acc: 48.49%\n",
      "Epoch: 10 | Loss: 0.67358, Accuracy: 63.30% | Test loss: 0.67194, Test acc: 63.30%\n",
      "Epoch: 20 | Loss: 0.66021, Accuracy: 63.30% | Test loss: 0.65917, Test acc: 63.30%\n",
      "Epoch: 30 | Loss: 0.65123, Accuracy: 63.30% | Test loss: 0.65046, Test acc: 63.30%\n",
      "Epoch: 40 | Loss: 0.64416, Accuracy: 63.30% | Test loss: 0.64350, Test acc: 63.30%\n",
      "Epoch: 50 | Loss: 0.63764, Accuracy: 63.30% | Test loss: 0.63699, Test acc: 63.30%\n",
      "Epoch: 60 | Loss: 0.63089, Accuracy: 63.30% | Test loss: 0.63018, Test acc: 63.30%\n",
      "Epoch: 70 | Loss: 0.62340, Accuracy: 63.30% | Test loss: 0.62259, Test acc: 63.30%\n",
      "Epoch: 80 | Loss: 0.61478, Accuracy: 63.30% | Test loss: 0.61384, Test acc: 63.30%\n",
      "Epoch: 90 | Loss: 0.60472, Accuracy: 63.30% | Test loss: 0.60363, Test acc: 63.30%\n",
      "Epoch: 100 | Loss: 0.59295, Accuracy: 63.30% | Test loss: 0.59167, Test acc: 63.30%\n",
      "Epoch: 110 | Loss: 0.57924, Accuracy: 63.30% | Test loss: 0.57775, Test acc: 63.30%\n",
      "Epoch: 120 | Loss: 0.56340, Accuracy: 63.30% | Test loss: 0.56169, Test acc: 63.30%\n",
      "Epoch: 130 | Loss: 0.54534, Accuracy: 63.30% | Test loss: 0.54341, Test acc: 63.30%\n",
      "Epoch: 140 | Loss: 0.52507, Accuracy: 65.27% | Test loss: 0.52293, Test acc: 66.32%\n",
      "Epoch: 150 | Loss: 0.50275, Accuracy: 78.51% | Test loss: 0.50042, Test acc: 78.64%\n",
      "Epoch: 160 | Loss: 0.47871, Accuracy: 83.88% | Test loss: 0.47622, Test acc: 84.40%\n",
      "Epoch: 170 | Loss: 0.45337, Accuracy: 87.55% | Test loss: 0.45079, Test acc: 87.94%\n",
      "Epoch: 180 | Loss: 0.42731, Accuracy: 89.12% | Test loss: 0.42469, Test acc: 89.12%\n",
      "Epoch: 190 | Loss: 0.40111, Accuracy: 90.56% | Test loss: 0.39851, Test acc: 90.69%\n",
      "Epoch: 200 | Loss: 0.37534, Accuracy: 91.48% | Test loss: 0.37280, Test acc: 91.48%\n",
      "Epoch: 210 | Loss: 0.35046, Accuracy: 92.92% | Test loss: 0.34804, Test acc: 92.92%\n",
      "Epoch: 220 | Loss: 0.32686, Accuracy: 93.18% | Test loss: 0.32457, Test acc: 93.32%\n",
      "Epoch: 230 | Loss: 0.30474, Accuracy: 93.84% | Test loss: 0.30262, Test acc: 93.71%\n",
      "Epoch: 240 | Loss: 0.28424, Accuracy: 93.84% | Test loss: 0.28228, Test acc: 93.84%\n",
      "Epoch: 250 | Loss: 0.26538, Accuracy: 94.63% | Test loss: 0.26358, Test acc: 94.63%\n",
      "Epoch: 260 | Loss: 0.24811, Accuracy: 94.89% | Test loss: 0.24647, Test acc: 94.89%\n",
      "Epoch: 270 | Loss: 0.23235, Accuracy: 94.89% | Test loss: 0.23086, Test acc: 95.02%\n",
      "Epoch: 280 | Loss: 0.21801, Accuracy: 95.41% | Test loss: 0.21665, Test acc: 95.54%\n",
      "Epoch: 290 | Loss: 0.20496, Accuracy: 95.67% | Test loss: 0.20372, Test acc: 95.67%\n",
      "Epoch: 300 | Loss: 0.19310, Accuracy: 96.07% | Test loss: 0.19197, Test acc: 96.20%\n",
      "Epoch: 310 | Loss: 0.18231, Accuracy: 96.46% | Test loss: 0.18129, Test acc: 96.46%\n",
      "Epoch: 320 | Loss: 0.17249, Accuracy: 96.59% | Test loss: 0.17156, Test acc: 96.59%\n",
      "Epoch: 330 | Loss: 0.16355, Accuracy: 96.85% | Test loss: 0.16270, Test acc: 96.85%\n",
      "Epoch: 340 | Loss: 0.15541, Accuracy: 96.99% | Test loss: 0.15463, Test acc: 97.25%\n",
      "Epoch: 350 | Loss: 0.14797, Accuracy: 97.64% | Test loss: 0.14727, Test acc: 97.77%\n",
      "Epoch: 360 | Loss: 0.14118, Accuracy: 97.77% | Test loss: 0.14054, Test acc: 97.77%\n",
      "Epoch: 370 | Loss: 0.13497, Accuracy: 97.90% | Test loss: 0.13438, Test acc: 97.90%\n",
      "Epoch: 380 | Loss: 0.12929, Accuracy: 97.90% | Test loss: 0.12875, Test acc: 97.90%\n",
      "Epoch: 390 | Loss: 0.12407, Accuracy: 98.03% | Test loss: 0.12358, Test acc: 98.17%\n",
      "Epoch: 400 | Loss: 0.11929, Accuracy: 98.17% | Test loss: 0.11883, Test acc: 98.17%\n",
      "Epoch: 410 | Loss: 0.11488, Accuracy: 98.17% | Test loss: 0.11446, Test acc: 98.17%\n",
      "Epoch: 420 | Loss: 0.11083, Accuracy: 98.17% | Test loss: 0.11044, Test acc: 98.17%\n",
      "Epoch: 430 | Loss: 0.10709, Accuracy: 98.30% | Test loss: 0.10673, Test acc: 98.30%\n",
      "Epoch: 440 | Loss: 0.10363, Accuracy: 98.30% | Test loss: 0.10330, Test acc: 98.30%\n",
      "Epoch: 450 | Loss: 0.10044, Accuracy: 98.30% | Test loss: 0.10013, Test acc: 98.30%\n",
      "Epoch: 460 | Loss: 0.09747, Accuracy: 98.30% | Test loss: 0.09719, Test acc: 98.30%\n",
      "Epoch: 470 | Loss: 0.09472, Accuracy: 98.30% | Test loss: 0.09446, Test acc: 98.30%\n",
      "Epoch: 480 | Loss: 0.09216, Accuracy: 98.43% | Test loss: 0.09192, Test acc: 98.43%\n",
      "Epoch: 490 | Loss: 0.08978, Accuracy: 98.43% | Test loss: 0.08955, Test acc: 98.43%\n",
      "Epoch: 500 | Loss: 0.08756, Accuracy: 98.43% | Test loss: 0.08735, Test acc: 98.43%\n",
      "Epoch: 510 | Loss: 0.08548, Accuracy: 98.43% | Test loss: 0.08528, Test acc: 98.43%\n",
      "Epoch: 520 | Loss: 0.08354, Accuracy: 98.56% | Test loss: 0.08335, Test acc: 98.56%\n",
      "Epoch: 530 | Loss: 0.08172, Accuracy: 98.56% | Test loss: 0.08154, Test acc: 98.56%\n",
      "Epoch: 540 | Loss: 0.08001, Accuracy: 98.56% | Test loss: 0.07985, Test acc: 98.56%\n",
      "Epoch: 550 | Loss: 0.07840, Accuracy: 98.56% | Test loss: 0.07825, Test acc: 98.56%\n",
      "Epoch: 560 | Loss: 0.07689, Accuracy: 98.56% | Test loss: 0.07675, Test acc: 98.56%\n",
      "Epoch: 570 | Loss: 0.07547, Accuracy: 98.56% | Test loss: 0.07533, Test acc: 98.56%\n",
      "Epoch: 580 | Loss: 0.07412, Accuracy: 98.56% | Test loss: 0.07399, Test acc: 98.56%\n",
      "Epoch: 590 | Loss: 0.07285, Accuracy: 98.56% | Test loss: 0.07273, Test acc: 98.56%\n",
      "Epoch: 600 | Loss: 0.07164, Accuracy: 98.56% | Test loss: 0.07153, Test acc: 98.56%\n",
      "Epoch: 610 | Loss: 0.07050, Accuracy: 98.56% | Test loss: 0.07039, Test acc: 98.56%\n",
      "Epoch: 620 | Loss: 0.06942, Accuracy: 98.56% | Test loss: 0.06931, Test acc: 98.56%\n",
      "Epoch: 630 | Loss: 0.06839, Accuracy: 98.56% | Test loss: 0.06829, Test acc: 98.56%\n",
      "Epoch: 640 | Loss: 0.06741, Accuracy: 98.69% | Test loss: 0.06732, Test acc: 98.69%\n",
      "Epoch: 650 | Loss: 0.06648, Accuracy: 98.69% | Test loss: 0.06639, Test acc: 98.69%\n",
      "Epoch: 660 | Loss: 0.06559, Accuracy: 98.69% | Test loss: 0.06550, Test acc: 98.69%\n",
      "Epoch: 670 | Loss: 0.06474, Accuracy: 98.82% | Test loss: 0.06466, Test acc: 98.82%\n",
      "Epoch: 680 | Loss: 0.06393, Accuracy: 98.82% | Test loss: 0.06385, Test acc: 98.82%\n",
      "Epoch: 690 | Loss: 0.06315, Accuracy: 98.82% | Test loss: 0.06308, Test acc: 98.82%\n",
      "Epoch: 700 | Loss: 0.06241, Accuracy: 98.82% | Test loss: 0.06234, Test acc: 98.82%\n",
      "Epoch: 710 | Loss: 0.06170, Accuracy: 98.82% | Test loss: 0.06163, Test acc: 98.82%\n",
      "Epoch: 720 | Loss: 0.06101, Accuracy: 98.82% | Test loss: 0.06095, Test acc: 98.82%\n",
      "Epoch: 730 | Loss: 0.06036, Accuracy: 98.82% | Test loss: 0.06029, Test acc: 98.82%\n",
      "Epoch: 740 | Loss: 0.05973, Accuracy: 98.82% | Test loss: 0.05966, Test acc: 98.82%\n",
      "Epoch: 750 | Loss: 0.05912, Accuracy: 98.82% | Test loss: 0.05906, Test acc: 98.82%\n",
      "Epoch: 760 | Loss: 0.05853, Accuracy: 98.82% | Test loss: 0.05848, Test acc: 98.82%\n",
      "Epoch: 770 | Loss: 0.05797, Accuracy: 98.82% | Test loss: 0.05791, Test acc: 98.82%\n",
      "Epoch: 780 | Loss: 0.05743, Accuracy: 98.82% | Test loss: 0.05737, Test acc: 98.82%\n",
      "Epoch: 790 | Loss: 0.05690, Accuracy: 98.82% | Test loss: 0.05685, Test acc: 98.82%\n",
      "Epoch: 800 | Loss: 0.05639, Accuracy: 98.82% | Test loss: 0.05634, Test acc: 98.82%\n",
      "Epoch: 810 | Loss: 0.05590, Accuracy: 98.82% | Test loss: 0.05586, Test acc: 98.82%\n",
      "Epoch: 820 | Loss: 0.05543, Accuracy: 98.82% | Test loss: 0.05538, Test acc: 98.82%\n",
      "Epoch: 830 | Loss: 0.05497, Accuracy: 98.82% | Test loss: 0.05492, Test acc: 98.82%\n",
      "Epoch: 840 | Loss: 0.05452, Accuracy: 98.82% | Test loss: 0.05448, Test acc: 98.82%\n",
      "Epoch: 850 | Loss: 0.05409, Accuracy: 98.82% | Test loss: 0.05405, Test acc: 98.82%\n",
      "Epoch: 860 | Loss: 0.05367, Accuracy: 98.82% | Test loss: 0.05363, Test acc: 98.82%\n",
      "Epoch: 870 | Loss: 0.05327, Accuracy: 98.82% | Test loss: 0.05323, Test acc: 98.82%\n",
      "Epoch: 880 | Loss: 0.05287, Accuracy: 98.82% | Test loss: 0.05283, Test acc: 98.82%\n",
      "Epoch: 890 | Loss: 0.05249, Accuracy: 98.82% | Test loss: 0.05245, Test acc: 98.82%\n",
      "Epoch: 900 | Loss: 0.05212, Accuracy: 98.82% | Test loss: 0.05208, Test acc: 98.82%\n",
      "Epoch: 910 | Loss: 0.05175, Accuracy: 98.82% | Test loss: 0.05172, Test acc: 98.82%\n",
      "Epoch: 920 | Loss: 0.05140, Accuracy: 98.82% | Test loss: 0.05136, Test acc: 98.82%\n",
      "Epoch: 930 | Loss: 0.05105, Accuracy: 98.82% | Test loss: 0.05102, Test acc: 98.82%\n",
      "Epoch: 940 | Loss: 0.05072, Accuracy: 98.82% | Test loss: 0.05069, Test acc: 98.82%\n",
      "Epoch: 950 | Loss: 0.05039, Accuracy: 98.82% | Test loss: 0.05036, Test acc: 98.82%\n",
      "Epoch: 960 | Loss: 0.05007, Accuracy: 98.82% | Test loss: 0.05004, Test acc: 98.82%\n",
      "Epoch: 970 | Loss: 0.04976, Accuracy: 98.82% | Test loss: 0.04973, Test acc: 98.82%\n",
      "Epoch: 980 | Loss: 0.04946, Accuracy: 98.82% | Test loss: 0.04943, Test acc: 98.82%\n",
      "Epoch: 990 | Loss: 0.04916, Accuracy: 98.82% | Test loss: 0.04913, Test acc: 98.82%\n"
     ]
    }
   ],
   "source": [
    "# Build training and evaluation loop\n",
    "torch.manual_seed(42)\n",
    "epochs=1000\n",
    "for epoch in range(epochs):\n",
    "    ### Training\n",
    "    model_0.train()\n",
    "\n",
    "    # 1. Forward pass (model outputs raw logits)\n",
    "    y_logits = model_0(X_train).squeeze() # squeeze to remove extra `1` dimensions, this won't work unless model and data are on same device \n",
    "    y_pred = torch.round(torch.sigmoid(y_logits)) # turn logits -> pred probs -> pred labls\n",
    "  \n",
    "    # 2. Calculate loss/accuracy\n",
    "    # loss = loss_fn(torch.sigmoid(y_logits), # Using nn.BCELoss you need torch.sigmoid()\n",
    "    #                y_train) \n",
    "    loss = loss_fn(y_logits, # Using nn.BCEWithLogitsLoss works with raw logits\n",
    "                   y_train) \n",
    "    acc = accuracy_fn(y_true=y_train, \n",
    "                      y_pred=y_pred) \n",
    "\n",
    "    # 3. Optimizer zero grad\n",
    "    optimizer.zero_grad()\n",
    "\n",
    "    # 4. Loss backwards\n",
    "    loss.backward()\n",
    "\n",
    "    # 5. Optimizer step\n",
    "    optimizer.step()\n",
    "\n",
    "    ### Testing\n",
    "    model_0.eval()\n",
    "    with torch.inference_mode():\n",
    "        # 1. Forward pass\n",
    "        test_logits = model_0(X_test).squeeze() \n",
    "        test_pred = torch.round(torch.sigmoid(test_logits))\n",
    "        # 2. Caculate loss/accuracy\n",
    "        test_loss = loss_fn(test_logits,\n",
    "                            y_test)\n",
    "        test_acc = accuracy_fn(y_true=y_test,\n",
    "                               y_pred=test_pred)\n",
    "\n",
    "    # Print out what's happening every 10 epochs\n",
    "    if epoch % 10 == 0:\n",
    "        print(f\"Epoch: {epoch} | Loss: {loss:.5f}, Accuracy: {acc:.2f}% | Test loss: {test_loss:.5f}, Test acc: {test_acc:.2f}%\")"
   ],
   "metadata": {
    "collapsed": false,
    "ExecuteTime": {
     "end_time": "2024-02-02T21:59:36.045908Z",
     "start_time": "2024-02-02T21:59:34.403835Z"
    }
   },
   "id": "553b7182f8f23c76",
   "execution_count": 19
  },
  {
   "cell_type": "code",
   "outputs": [],
   "source": [
    "new_df = pd.DataFrame()"
   ],
   "metadata": {
    "collapsed": false,
    "ExecuteTime": {
     "end_time": "2024-02-02T21:59:38.968170Z",
     "start_time": "2024-02-02T21:59:38.942962Z"
    }
   },
   "id": "adca1a8ee60fec1c",
   "execution_count": 20
  },
  {
   "cell_type": "code",
   "outputs": [],
   "source": [
    "new_df['DATA'] = [\"думаю что нет\"]"
   ],
   "metadata": {
    "collapsed": false,
    "ExecuteTime": {
     "end_time": "2024-02-02T21:59:39.276225Z",
     "start_time": "2024-02-02T21:59:39.260766Z"
    }
   },
   "id": "74b44e147d7cdbc3",
   "execution_count": 21
  },
  {
   "cell_type": "code",
   "outputs": [
    {
     "data": {
      "text/plain": "            DATA\n0  думаю что нет",
      "text/html": "<div>\n<style scoped>\n    .dataframe tbody tr th:only-of-type {\n        vertical-align: middle;\n    }\n\n    .dataframe tbody tr th {\n        vertical-align: top;\n    }\n\n    .dataframe thead th {\n        text-align: right;\n    }\n</style>\n<table border=\"1\" class=\"dataframe\">\n  <thead>\n    <tr style=\"text-align: right;\">\n      <th></th>\n      <th>DATA</th>\n    </tr>\n  </thead>\n  <tbody>\n    <tr>\n      <th>0</th>\n      <td>думаю что нет</td>\n    </tr>\n  </tbody>\n</table>\n</div>"
     },
     "execution_count": 22,
     "metadata": {},
     "output_type": "execute_result"
    }
   ],
   "source": [
    "new_df.head()"
   ],
   "metadata": {
    "collapsed": false,
    "ExecuteTime": {
     "end_time": "2024-02-02T21:59:39.705252Z",
     "start_time": "2024-02-02T21:59:39.682165Z"
    }
   },
   "id": "dd0107c7df4f965",
   "execution_count": 22
  },
  {
   "cell_type": "code",
   "outputs": [],
   "source": [
    "new_df['VEC'] = new_df['DATA'].apply(lambda  x : embed_bert_cls(x, model, tokenizer)) \n"
   ],
   "metadata": {
    "collapsed": false,
    "ExecuteTime": {
     "end_time": "2024-02-02T21:59:40.491017Z",
     "start_time": "2024-02-02T21:59:40.455086Z"
    }
   },
   "id": "fb30d5cbeff63365",
   "execution_count": 23
  },
  {
   "cell_type": "code",
   "outputs": [],
   "source": [
    "X_train2 = torch.from_numpy(np.stack(new_df['VEC'].values)).type(torch.float)\n"
   ],
   "metadata": {
    "collapsed": false,
    "ExecuteTime": {
     "end_time": "2024-02-02T21:59:40.858676Z",
     "start_time": "2024-02-02T21:59:40.836432Z"
    }
   },
   "id": "399bcbc399ecb81c",
   "execution_count": 24
  },
  {
   "cell_type": "code",
   "outputs": [
    {
     "data": {
      "text/plain": "tensor(0., grad_fn=<RoundBackward0>)"
     },
     "execution_count": 25,
     "metadata": {},
     "output_type": "execute_result"
    }
   ],
   "source": [
    "test_logits = model_0(X_train2).squeeze() \n",
    "torch.round(torch.sigmoid(test_logits))"
   ],
   "metadata": {
    "collapsed": false,
    "ExecuteTime": {
     "end_time": "2024-02-02T21:59:41.335522Z",
     "start_time": "2024-02-02T21:59:41.298366Z"
    }
   },
   "id": "d79cdda7b4573b00",
   "execution_count": 25
  },
  {
   "cell_type": "code",
   "outputs": [
    {
     "data": {
      "text/plain": "__main__.YesNoModel"
     },
     "execution_count": 26,
     "metadata": {},
     "output_type": "execute_result"
    }
   ],
   "source": [
    "type(model_0)"
   ],
   "metadata": {
    "collapsed": false,
    "ExecuteTime": {
     "end_time": "2024-02-02T21:59:42.045228Z",
     "start_time": "2024-02-02T21:59:42.033553Z"
    }
   },
   "id": "be4164b6d59b263",
   "execution_count": 26
  },
  {
   "cell_type": "code",
   "outputs": [],
   "source": [],
   "metadata": {
    "collapsed": false,
    "ExecuteTime": {
     "end_time": "2024-02-02T21:59:42.558809Z",
     "start_time": "2024-02-02T21:59:42.535519Z"
    }
   },
   "id": "f4c7682e9902775d",
   "execution_count": 26
  },
  {
   "cell_type": "code",
   "outputs": [],
   "source": [
    "def make_predict(text, model_0):\n",
    "    new_df = pd.DataFrame()\n",
    "    new_df['DATA'] = [text]\n",
    "    new_df['VEC'] = new_df['DATA'].apply(lambda  x : embed_bert_cls(x, model, tokenizer)) \n",
    "    X_train2 = torch.from_numpy(np.stack(new_df['VEC'].values)).type(torch.float)\n",
    "    test_logits = model_0(X_train2).squeeze() \n",
    "    return torch.round(torch.sigmoid(test_logits))\n",
    "    "
   ],
   "metadata": {
    "collapsed": false,
    "ExecuteTime": {
     "end_time": "2024-02-02T21:59:43.162790Z",
     "start_time": "2024-02-02T21:59:43.146436Z"
    }
   },
   "id": "e9751f59f29685c6",
   "execution_count": 27
  },
  {
   "cell_type": "code",
   "outputs": [],
   "source": [
    "t1 = make_predict(\"думаю что да\", model_0)"
   ],
   "metadata": {
    "collapsed": false,
    "ExecuteTime": {
     "end_time": "2024-02-02T21:59:43.701233Z",
     "start_time": "2024-02-02T21:59:43.637403Z"
    }
   },
   "id": "b7835a126a82cd3e",
   "execution_count": 28
  },
  {
   "cell_type": "code",
   "outputs": [
    {
     "data": {
      "text/plain": "1"
     },
     "execution_count": 29,
     "metadata": {},
     "output_type": "execute_result"
    }
   ],
   "source": [
    "int(t1.tolist())"
   ],
   "metadata": {
    "collapsed": false,
    "ExecuteTime": {
     "end_time": "2024-02-02T21:59:44.193973Z",
     "start_time": "2024-02-02T21:59:44.141423Z"
    }
   },
   "id": "40659a40d206517c",
   "execution_count": 29
  },
  {
   "cell_type": "code",
   "outputs": [],
   "source": [
    "import pickle"
   ],
   "metadata": {
    "collapsed": false,
    "ExecuteTime": {
     "end_time": "2024-02-02T21:59:44.950719Z",
     "start_time": "2024-02-02T21:59:44.933261Z"
    }
   },
   "id": "940f6b9b8c28fdb4",
   "execution_count": 30
  },
  {
   "cell_type": "code",
   "outputs": [],
   "source": [
    "\n",
    "file = open('model_0.picle', 'wb')\n",
    "\n",
    "# dump information to that file\n",
    "pickle.dump(model_0, file)\n",
    "\n",
    "# close the file\n",
    "file.close()"
   ],
   "metadata": {
    "collapsed": false,
    "ExecuteTime": {
     "end_time": "2024-02-02T21:59:45.318281Z",
     "start_time": "2024-02-02T21:59:45.300299Z"
    }
   },
   "id": "2f3183025d76e376",
   "execution_count": 31
  },
  {
   "cell_type": "code",
   "outputs": [],
   "source": [
    "file = open('tokenizer.picle', 'wb')\n",
    "\n",
    "# dump information to that file\n",
    "pickle.dump(tokenizer, file)\n",
    "\n",
    "# close the file\n",
    "file.close()"
   ],
   "metadata": {
    "collapsed": false,
    "ExecuteTime": {
     "end_time": "2024-02-02T21:59:45.545469Z",
     "start_time": "2024-02-02T21:59:45.527462Z"
    }
   },
   "id": "3adc86237c366e43",
   "execution_count": 32
  },
  {
   "cell_type": "code",
   "outputs": [],
   "source": [
    "file = open('model_rubertyni.picle', 'wb')\n",
    "\n",
    "# dump information to that file\n",
    "pickle.dump(model, file)\n",
    "\n",
    "# close the file\n",
    "file.close()"
   ],
   "metadata": {
    "collapsed": false,
    "ExecuteTime": {
     "end_time": "2024-02-02T21:59:46.551805Z",
     "start_time": "2024-02-02T21:59:46.329537Z"
    }
   },
   "id": "508d2e69f2e1722c",
   "execution_count": 33
  },
  {
   "cell_type": "code",
   "outputs": [],
   "source": [
    "torch.save(model_0.state_dict(), \"model_0.torch\")"
   ],
   "metadata": {
    "collapsed": false,
    "ExecuteTime": {
     "end_time": "2024-02-02T21:59:48.426735Z",
     "start_time": "2024-02-02T21:59:48.408376Z"
    }
   },
   "id": "af09324eb17acd3c",
   "execution_count": 34
  },
  {
   "cell_type": "code",
   "outputs": [],
   "source": [],
   "metadata": {
    "collapsed": false
   },
   "id": "49159e4ed416f0e5"
  }
 ],
 "metadata": {
  "kernelspec": {
   "display_name": "Python 3",
   "language": "python",
   "name": "python3"
  },
  "language_info": {
   "codemirror_mode": {
    "name": "ipython",
    "version": 2
   },
   "file_extension": ".py",
   "mimetype": "text/x-python",
   "name": "python",
   "nbconvert_exporter": "python",
   "pygments_lexer": "ipython2",
   "version": "2.7.6"
  }
 },
 "nbformat": 4,
 "nbformat_minor": 5
}
